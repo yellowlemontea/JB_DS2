{
 "cells": [
  {
   "cell_type": "markdown",
   "id": "51a4f57f",
   "metadata": {},
   "source": [
    "# JUN 작업 파일"
   ]
  },
  {
   "cell_type": "markdown",
   "id": "2748d851",
   "metadata": {},
   "source": [
    "## 파일 로드 및 확인"
   ]
  },
  {
   "cell_type": "code",
   "execution_count": 1,
   "id": "b9bf661e",
   "metadata": {},
   "outputs": [
    {
     "name": "stdout",
     "output_type": "stream",
     "text": [
      "<class 'pandas.core.frame.DataFrame'>\n",
      "RangeIndex: 24000 entries, 0 to 23999\n",
      "Data columns (total 35 columns):\n",
      " #   Column                      Non-Null Count  Dtype  \n",
      "---  ------                      --------------  -----  \n",
      " 0   SK_ID_CURR                  24000 non-null  int64  \n",
      " 1   NAME_CONTRACT_TYPE          24000 non-null  object \n",
      " 2   CODE_GENDER                 16906 non-null  object \n",
      " 3   FLAG_OWN_REALTY             14429 non-null  object \n",
      " 4   CNT_CHILDREN                24000 non-null  int64  \n",
      " 5   AMT_INCOME_TOTAL            24000 non-null  float64\n",
      " 6   AMT_CREDIT                  16700 non-null  float64\n",
      " 7   NAME_INCOME_TYPE            24000 non-null  object \n",
      " 8   NAME_EDUCATION_TYPE         24000 non-null  object \n",
      " 9   NAME_FAMILY_STATUS          24000 non-null  object \n",
      " 10  NAME_HOUSING_TYPE           24000 non-null  object \n",
      " 11  REGION_POPULATION_RELATIVE  16851 non-null  float64\n",
      " 12  DAYS_BIRTH                  19251 non-null  float64\n",
      " 13  DAYS_EMPLOYED               16851 non-null  float64\n",
      " 14  DAYS_REGISTRATION           14267 non-null  float64\n",
      " 15  DAYS_ID_PUBLISH             19259 non-null  float64\n",
      " 16  FLAG_MOBIL                  24000 non-null  int64  \n",
      " 17  FLAG_EMP_PHONE              24000 non-null  int64  \n",
      " 18  FLAG_WORK_PHONE             24000 non-null  int64  \n",
      " 19  FLAG_PHONE                  24000 non-null  int64  \n",
      " 20  FLAG_EMAIL                  24000 non-null  int64  \n",
      " 21  REGION_RATING_CLIENT        24000 non-null  int64  \n",
      " 22  WEEKDAY_APPR_PROCESS_START  24000 non-null  object \n",
      " 23  HOUR_APPR_PROCESS_START     24000 non-null  int64  \n",
      " 24  REG_CITY_NOT_LIVE_CITY      24000 non-null  int64  \n",
      " 25  REG_CITY_NOT_WORK_CITY      24000 non-null  int64  \n",
      " 26  LIVE_CITY_NOT_WORK_CITY     24000 non-null  int64  \n",
      " 27  ORGANIZATION_TYPE           24000 non-null  object \n",
      " 28  FLAG_DOCUMENT_2             24000 non-null  int64  \n",
      " 29  FLAG_DOCUMENT_3             24000 non-null  int64  \n",
      " 30  FLAG_DOCUMENT_4             24000 non-null  int64  \n",
      " 31  CB_SCORE_1                  17854 non-null  float64\n",
      " 32  CB_SCORE_2                  15726 non-null  float64\n",
      " 33  CB_SCORE_3                  16892 non-null  float64\n",
      " 34  TARGET                      24000 non-null  int64  \n",
      "dtypes: float64(10), int64(16), object(9)\n",
      "memory usage: 6.4+ MB\n"
     ]
    }
   ],
   "source": [
    "import pandas as pd\n",
    "import numpy as np\n",
    "import tensorflow as tf\n",
    "from sklearn.model_selection import train_test_split\n",
    "from sklearn.preprocessing import MinMaxScaler\n",
    "import matplotlib.pyplot as plt\n",
    "import seaborn as sns\n",
    "import math\n",
    "\n",
    "# 데이터 불러오기\n",
    "df = pd.read_csv('C:/Users/galaxy/Desktop/2023/JB_Data/loan_customer.csv')\n",
    "# 데이터 기본 정보 확인\n",
    "df.info()    # 데이터 정보 출력 (데이터 타입, 누락값 확인)"
   ]
  },
  {
   "cell_type": "code",
   "execution_count": 2,
   "id": "f5d4389b",
   "metadata": {},
   "outputs": [],
   "source": [
    "column_info = {'SK_ID_CURR':'대출식별번호',\n",
    "'NAME_CONTRACT_TYPE':'계약유형',\n",
    "'CODE_GENDER':'성별',\n",
    "'FLAG_OWN_REALTY':'자가부동산보유여부',\n",
    "'CNT_CHILDREN':'자녀수',\n",
    "'AMT_INCOME_TOTAL':'소득금액(USD)',\n",
    "'AMT_CREDIT':'신용대출금액(USD)',\n",
    "'NAME_INCOME_TYPE':'소득유형',\n",
    "'NAME_EDUCATION_TYPE':'학력',\n",
    "'NAME_FAMILY_STATUS':'결혼상태',\n",
    "'NAME_HOUSING_TYPE':'주거형태',\n",
    "'REGION_POPULATION_RELATIVE':'거주지역의표준화된인구',\n",
    "'DAYS_BIRTH':'대출신청시점에서의일단위나이(기준시점대비상대적인시간)',\n",
    "'DAYS_EMPLOYED':'대출신청시점에서의고객의근무일수(기준시점대비상대적인시간)',\n",
    "'DAYS_REGISTRATION':'대출신청이전에고객이등록정보를변경한시점사이의일수(기준시점대비상대적인시간)',\n",
    "'DAYS_ID_PUBLISH':'대출신청이전에고객이신분증을변경한시점사이의일수(기준시점대비상대적인시간)',\n",
    "'FLAG_MOBIL':'휴대폰번호등록여부',\n",
    "'FLAG_EMP_PHONE':'고용주연락처등록여부',\n",
    "'FLAG_WORK_PHONE':'직장전화번호등록여부',\n",
    "'FLAG_PHONE':'집전화번호등록여부',\n",
    "'FLAG_EMAIL':'이메일주소등록여부',\n",
    "'REGION_RATING_CLIENT':'거주지등급',\n",
    "'WEEKDAY_APPR_PROCESS_START':'대출신청요일',\n",
    "'HOUR_APPR_PROCESS_START':'대출신청시간대',\n",
    "'REG_CITY_NOT_LIVE_CITY':'고객의등록지주소와실거주지일치여부',\n",
    "'REG_CITY_NOT_WORK_CITY':'고객의등록지주소와직장주소일치여부',\n",
    "'LIVE_CITY_NOT_WORK_CITY':'고객의실거주지와직장주소일치여부',\n",
    "'ORGANIZATION_TYPE':'근무회사유형',\n",
    "'FLAG_DOCUMENT_2':'문서2제공여부',\n",
    "'FLAG_DOCUMENT_3':'문서3제공여부',\n",
    "'FLAG_DOCUMENT_4':'문서4제공여부',\n",
    "'CB_SCORE_1':'신용점수1',\n",
    "'CB_SCORE_2':'신용점수2',\n",
    "'CB_SCORE_3':'신용점수3',\n",
    "'TARGET':'연체여부'}"
   ]
  },
  {
   "cell_type": "code",
   "execution_count": 6,
   "id": "06e1f886",
   "metadata": {},
   "outputs": [
    {
     "name": "stdout",
     "output_type": "stream",
     "text": [
      "SK_ID_CURR컬럼의 이름을 대출식별번호로 수정했습니다 \n",
      "NAME_CONTRACT_TYPE컬럼의 이름을 계약유형로 수정했습니다 \n",
      "CODE_GENDER컬럼의 이름을 성별로 수정했습니다 \n",
      "FLAG_OWN_REALTY컬럼의 이름을 자가부동산보유여부로 수정했습니다 \n",
      "CNT_CHILDREN컬럼의 이름을 자녀수로 수정했습니다 \n",
      "AMT_INCOME_TOTAL컬럼의 이름을 소득금액(USD)로 수정했습니다 \n",
      "AMT_CREDIT컬럼의 이름을 신용대출금액(USD)로 수정했습니다 \n",
      "NAME_INCOME_TYPE컬럼의 이름을 소득유형로 수정했습니다 \n",
      "NAME_EDUCATION_TYPE컬럼의 이름을 학력로 수정했습니다 \n",
      "NAME_FAMILY_STATUS컬럼의 이름을 결혼상태로 수정했습니다 \n",
      "NAME_HOUSING_TYPE컬럼의 이름을 주거형태로 수정했습니다 \n",
      "REGION_POPULATION_RELATIVE컬럼의 이름을 거주지역의표준화된인구로 수정했습니다 \n",
      "DAYS_BIRTH컬럼의 이름을 대출신청시점에서의일단위나이(기준시점대비상대적인시간)로 수정했습니다 \n",
      "DAYS_EMPLOYED컬럼의 이름을 대출신청시점에서의고객의근무일수(기준시점대비상대적인시간)로 수정했습니다 \n",
      "DAYS_REGISTRATION컬럼의 이름을 대출신청이전에고객이등록정보를변경한시점사이의일수(기준시점대비상대적인시간)로 수정했습니다 \n",
      "DAYS_ID_PUBLISH컬럼의 이름을 대출신청이전에고객이신분증을변경한시점사이의일수(기준시점대비상대적인시간)로 수정했습니다 \n",
      "FLAG_MOBIL컬럼의 이름을 휴대폰번호등록여부로 수정했습니다 \n",
      "FLAG_EMP_PHONE컬럼의 이름을 고용주연락처등록여부로 수정했습니다 \n",
      "FLAG_WORK_PHONE컬럼의 이름을 직장전화번호등록여부로 수정했습니다 \n",
      "FLAG_PHONE컬럼의 이름을 집전화번호등록여부로 수정했습니다 \n",
      "FLAG_EMAIL컬럼의 이름을 이메일주소등록여부로 수정했습니다 \n",
      "REGION_RATING_CLIENT컬럼의 이름을 거주지등급로 수정했습니다 \n",
      "WEEKDAY_APPR_PROCESS_START컬럼의 이름을 대출신청요일로 수정했습니다 \n",
      "HOUR_APPR_PROCESS_START컬럼의 이름을 대출신청시간대로 수정했습니다 \n",
      "REG_CITY_NOT_LIVE_CITY컬럼의 이름을 고객의등록지주소와실거주지일치여부로 수정했습니다 \n",
      "REG_CITY_NOT_WORK_CITY컬럼의 이름을 고객의등록지주소와직장주소일치여부로 수정했습니다 \n",
      "LIVE_CITY_NOT_WORK_CITY컬럼의 이름을 고객의실거주지와직장주소일치여부로 수정했습니다 \n",
      "ORGANIZATION_TYPE컬럼의 이름을 근무회사유형로 수정했습니다 \n",
      "FLAG_DOCUMENT_2컬럼의 이름을 문서2제공여부로 수정했습니다 \n",
      "FLAG_DOCUMENT_3컬럼의 이름을 문서3제공여부로 수정했습니다 \n",
      "FLAG_DOCUMENT_4컬럼의 이름을 문서4제공여부로 수정했습니다 \n",
      "CB_SCORE_1컬럼의 이름을 신용점수1로 수정했습니다 \n",
      "CB_SCORE_2컬럼의 이름을 신용점수2로 수정했습니다 \n",
      "CB_SCORE_3컬럼의 이름을 신용점수3로 수정했습니다 \n",
      "TARGET컬럼의 이름을 연체여부로 수정했습니다 \n"
     ]
    }
   ],
   "source": [
    "\n",
    "df_colinfo = df.copy() \n",
    "\n",
    "for col in df_colinfo.columns : \n",
    "    df_colinfo.rename(columns = {col:column_info[col]}, inplace = True)\n",
    "    print(col+'컬럼의 이름을 '+column_info[col]+'로 수정했습니다 ')"
   ]
  },
  {
   "cell_type": "code",
   "execution_count": 8,
   "id": "8a87f8bd",
   "metadata": {},
   "outputs": [
    {
     "name": "stdout",
     "output_type": "stream",
     "text": [
      "결측치가 있는 행의 수는 24000 중 23562\n"
     ]
    },
    {
     "data": {
      "text/plain": [
       "성별                                         7094\n",
       "자가부동산보유여부                                  9571\n",
       "신용대출금액(USD)                                7300\n",
       "거주지역의표준화된인구                                7149\n",
       "대출신청시점에서의일단위나이(기준시점대비상대적인시간)               4749\n",
       "대출신청시점에서의고객의근무일수(기준시점대비상대적인시간)             7149\n",
       "대출신청이전에고객이등록정보를변경한시점사이의일수(기준시점대비상대적인시간)    9733\n",
       "대출신청이전에고객이신분증을변경한시점사이의일수(기준시점대비상대적인시간)     4741\n",
       "신용점수1                                      6146\n",
       "신용점수2                                      8274\n",
       "신용점수3                                      7108\n",
       "dtype: int64"
      ]
     },
     "execution_count": 8,
     "metadata": {},
     "output_type": "execute_result"
    }
   ],
   "source": [
    "df_colinfo.describe()\n",
    "df_colinfo.head()       # 데이터 상위 몇 개 행 출력\n",
    "# 결측치 확인\n",
    "print(\"결측치가 있는 행의 수는\",len(df_colinfo),\"중\",len(df_colinfo[df_colinfo.isnull().any(axis=1)]))\n",
    "# 대부분의 행이 결측치가 있음\n",
    "missing_values = df_colinfo.isnull().sum()\n",
    "missing_values[missing_values > 0 ]"
   ]
  },
  {
   "cell_type": "markdown",
   "id": "5a02e329",
   "metadata": {},
   "source": [
    "## 변수 편집"
   ]
  },
  {
   "cell_type": "code",
   "execution_count": 23,
   "id": "52b1ccde",
   "metadata": {},
   "outputs": [],
   "source": [
    "data = df.copy()"
   ]
  },
  {
   "cell_type": "markdown",
   "id": "46534d8a",
   "metadata": {},
   "source": [
    "### 1. 변수 범주화"
   ]
  },
  {
   "cell_type": "code",
   "execution_count": 24,
   "id": "989bc6ee",
   "metadata": {},
   "outputs": [
    {
     "data": {
      "text/plain": [
       "0        27.0\n",
       "1        53.0\n",
       "2        36.0\n",
       "3        32.0\n",
       "4         NaN\n",
       "         ... \n",
       "23995    54.0\n",
       "23996    34.0\n",
       "23997     NaN\n",
       "23998    39.0\n",
       "23999    36.0\n",
       "Name: DAYS_BIRTH, Length: 24000, dtype: float64"
      ]
     },
     "execution_count": 24,
     "metadata": {},
     "output_type": "execute_result"
    }
   ],
   "source": [
    "data['DAYS_BIRTH'] = data['DAYS_BIRTH']/360\n",
    "data['DAYS_BIRTH'] = data['DAYS_BIRTH']*-1\n",
    "\n",
    "data['DAYS_BIRTH'] = data['DAYS_BIRTH'].apply(lambda x: math.ceil(x) if not np.isnan(x) else np.nan)\n",
    "data['DAYS_BIRTH']"
   ]
  },
  {
   "cell_type": "markdown",
   "id": "e10e8c02",
   "metadata": {},
   "source": [
    "### 2. 변수 결측치 채우기"
   ]
  },
  {
   "cell_type": "markdown",
   "id": "8d8b0653",
   "metadata": {},
   "source": [
    "#### 1. 이상치 처리\n",
    "- #### 이상값 모두 결측치로 통일하여 처리"
   ]
  },
  {
   "cell_type": "code",
   "execution_count": 72,
   "id": "4d71a31c",
   "metadata": {},
   "outputs": [],
   "source": [
    "#data = data.replace(['NaN', 'nan', 'XNA', 'Unknown'], np.nan)\n",
    "data = df.copy()\n",
    "# data = data.replace(['XNA'], np.nan)"
   ]
  },
  {
   "cell_type": "markdown",
   "id": "48a2ab86",
   "metadata": {},
   "source": [
    "- 최종 결측치 컬럼 확인"
   ]
  },
  {
   "cell_type": "code",
   "execution_count": 73,
   "id": "d9e5d062",
   "metadata": {},
   "outputs": [
    {
     "name": "stdout",
     "output_type": "stream",
     "text": [
      "- CODE_GENDER 성별\n",
      "- FLAG_OWN_REALTY 자가부동산보유여부\n",
      "- AMT_CREDIT 신용대출금액(USD)\n",
      "- REGION_POPULATION_RELATIVE 거주지역의표준화된인구\n",
      "- DAYS_BIRTH 대출신청시점에서의일단위나이(기준시점대비상대적인시간)\n",
      "- DAYS_EMPLOYED 대출신청시점에서의고객의근무일수(기준시점대비상대적인시간)\n",
      "- DAYS_REGISTRATION 대출신청이전에고객이등록정보를변경한시점사이의일수(기준시점대비상대적인시간)\n",
      "- DAYS_ID_PUBLISH 대출신청이전에고객이신분증을변경한시점사이의일수(기준시점대비상대적인시간)\n",
      "- CB_SCORE_1 신용점수1\n",
      "- CB_SCORE_2 신용점수2\n",
      "- CB_SCORE_3 신용점수3\n"
     ]
    }
   ],
   "source": [
    "# 결측값이 있는 행 선택하기\n",
    "col_mv_list = data.columns[data.isnull().any()]\n",
    "\n",
    "for column in col_mv_list:\n",
    "    print(f\"- {column} {column_info[column]}\")"
   ]
  },
  {
   "cell_type": "markdown",
   "id": "10978cf3",
   "metadata": {},
   "source": [
    "#### 2. 패턴을 찾아 채우기"
   ]
  },
  {
   "cell_type": "code",
   "execution_count": 74,
   "id": "39925d24",
   "metadata": {},
   "outputs": [],
   "source": [
    "from scipy import stats\n",
    "def replace_missing_values(df, col_fill_values):\n",
    "    for col, fill_method in col_fill_values.items():\n",
    "        if fill_method == 'mode':\n",
    "            mode_result = stats.mode(df[col])\n",
    "            fill_value = mode_result.mode[0]\n",
    "           \n",
    "        elif fill_method == 'median':\n",
    "            fill_value = df[col].median()\n",
    "       \n",
    "        else:\n",
    "            raise ValueError(f\"Invalid method for column '{column}'.Choose either 'mode' or 'median'.\")\n",
    "           \n",
    "        df[col] = df[col].fillna(fill_value)\n",
    "    return df"
   ]
  },
  {
   "cell_type": "code",
   "execution_count": 75,
   "id": "74d60464",
   "metadata": {},
   "outputs": [
    {
     "name": "stderr",
     "output_type": "stream",
     "text": [
      "C:\\Users\\galaxy\\AppData\\Local\\Temp\\ipykernel_13052\\1735547379.py:5: FutureWarning: Unlike other reduction functions (e.g. `skew`, `kurtosis`), the default behavior of `mode` typically preserves the axis it acts along. In SciPy 1.11.0, this behavior will change: the default value of `keepdims` will become False, the `axis` over which the statistic is taken will be eliminated, and the value None will no longer be accepted. Set `keepdims` to True or False to avoid this warning.\n",
      "  mode_result = stats.mode(df[col])\n",
      "C:\\Users\\galaxy\\AppData\\Local\\Temp\\ipykernel_13052\\1735547379.py:5: DeprecationWarning: Support for non-numeric arrays has been deprecated as of SciPy 1.9.0 and will be removed in 1.11.0. `pandas.DataFrame.mode` can be used instead, see https://pandas.pydata.org/docs/reference/api/pandas.DataFrame.mode.html.\n",
      "  mode_result = stats.mode(df[col])\n"
     ]
    },
    {
     "data": {
      "text/plain": [
       "['CODE_GENDER',\n",
       " 'FLAG_OWN_REALTY',\n",
       " 'AMT_CREDIT',\n",
       " 'REGION_POPULATION_RELATIVE',\n",
       " 'DAYS_BIRTH',\n",
       " 'DAYS_EMPLOYED',\n",
       " 'DAYS_REGISTRATION',\n",
       " 'DAYS_ID_PUBLISH',\n",
       " 'CB_SCORE_1',\n",
       " 'CB_SCORE_2',\n",
       " 'CB_SCORE_3']"
      ]
     },
     "execution_count": 75,
     "metadata": {},
     "output_type": "execute_result"
    }
   ],
   "source": [
    "fill_methods = {\n",
    "\n",
    "    'NAME_FAMILY_STATUS': 'mode',\n",
    "\n",
    "}\n",
    "\n",
    "data = replace_missing_values(data,fill_methods)\n",
    "missing_values = data.isnull().sum()\n",
    "missing_values = missing_values[missing_values > 0].index.to_list()\n",
    "missing_values"
   ]
  },
  {
   "cell_type": "code",
   "execution_count": null,
   "id": "530f9701",
   "metadata": {},
   "outputs": [],
   "source": []
  },
  {
   "cell_type": "markdown",
   "id": "8c1940fb",
   "metadata": {},
   "source": [
    "#### 3. 딥러닝 방식"
   ]
  },
  {
   "cell_type": "code",
   "execution_count": 76,
   "id": "72023c41",
   "metadata": {},
   "outputs": [],
   "source": [
    "numeric_columns = data.select_dtypes(include=['int', 'float']).columns\n",
    "categorical_columns = data.select_dtypes(include=['object']).columns\n",
    "missing_values = data.isnull().sum()\n",
    "missing_values = missing_values[missing_values > 0].index.to_list()"
   ]
  },
  {
   "cell_type": "code",
   "execution_count": 77,
   "id": "214694da",
   "metadata": {},
   "outputs": [
    {
     "data": {
      "text/plain": [
       "['SK_ID_CURR',\n",
       " 'CNT_CHILDREN',\n",
       " 'AMT_INCOME_TOTAL',\n",
       " 'FLAG_MOBIL',\n",
       " 'FLAG_EMP_PHONE',\n",
       " 'FLAG_WORK_PHONE',\n",
       " 'FLAG_PHONE',\n",
       " 'FLAG_EMAIL',\n",
       " 'REGION_RATING_CLIENT',\n",
       " 'HOUR_APPR_PROCESS_START',\n",
       " 'REG_CITY_NOT_LIVE_CITY',\n",
       " 'REG_CITY_NOT_WORK_CITY',\n",
       " 'LIVE_CITY_NOT_WORK_CITY',\n",
       " 'FLAG_DOCUMENT_2',\n",
       " 'FLAG_DOCUMENT_3',\n",
       " 'FLAG_DOCUMENT_4',\n",
       " 'TARGET']"
      ]
     },
     "execution_count": 77,
     "metadata": {},
     "output_type": "execute_result"
    }
   ],
   "source": [
    "numeric_columns = numeric_columns.to_list()\n",
    "numeric_columns = [x for x in numeric_columns if x not in missing_values]\n",
    "numeric_columns"
   ]
  },
  {
   "cell_type": "code",
   "execution_count": 78,
   "id": "fb738450",
   "metadata": {},
   "outputs": [
    {
     "data": {
      "text/plain": [
       "['NAME_CONTRACT_TYPE',\n",
       " 'NAME_INCOME_TYPE',\n",
       " 'NAME_EDUCATION_TYPE',\n",
       " 'NAME_FAMILY_STATUS',\n",
       " 'NAME_HOUSING_TYPE',\n",
       " 'WEEKDAY_APPR_PROCESS_START',\n",
       " 'ORGANIZATION_TYPE']"
      ]
     },
     "execution_count": 78,
     "metadata": {},
     "output_type": "execute_result"
    }
   ],
   "source": [
    "categorical_columns = categorical_columns.to_list()\n",
    "categorical_columns = [x for x in categorical_columns if x not in missing_values]\n",
    "categorical_columns"
   ]
  },
  {
   "cell_type": "code",
   "execution_count": 79,
   "id": "d8c2d362",
   "metadata": {},
   "outputs": [
    {
     "name": "stdout",
     "output_type": "stream",
     "text": [
      "24000\n",
      "16905\n",
      "Epoch 1/30\n",
      "423/423 [==============================] - 1s 2ms/step - loss: 0.7118 - accuracy: 0.6468 - val_loss: 0.6506 - val_accuracy: 0.6705\n",
      "Epoch 2/30\n",
      "423/423 [==============================] - 1s 2ms/step - loss: 0.6472 - accuracy: 0.6755 - val_loss: 0.6180 - val_accuracy: 0.6971\n",
      "Epoch 3/30\n",
      "423/423 [==============================] - 1s 2ms/step - loss: 0.6186 - accuracy: 0.6985 - val_loss: 0.5970 - val_accuracy: 0.7087\n",
      "Epoch 4/30\n",
      "423/423 [==============================] - 1s 2ms/step - loss: 0.6036 - accuracy: 0.7030 - val_loss: 0.5847 - val_accuracy: 0.7137\n",
      "Epoch 5/30\n",
      "423/423 [==============================] - 1s 2ms/step - loss: 0.5863 - accuracy: 0.7161 - val_loss: 0.5820 - val_accuracy: 0.7140\n",
      "Epoch 6/30\n",
      "423/423 [==============================] - 1s 2ms/step - loss: 0.5783 - accuracy: 0.7189 - val_loss: 0.5764 - val_accuracy: 0.7193\n",
      "Epoch 7/30\n",
      "423/423 [==============================] - 1s 2ms/step - loss: 0.5764 - accuracy: 0.7206 - val_loss: 0.5713 - val_accuracy: 0.7169\n",
      "Epoch 8/30\n",
      "423/423 [==============================] - 1s 2ms/step - loss: 0.5690 - accuracy: 0.7255 - val_loss: 0.5680 - val_accuracy: 0.7167\n",
      "Epoch 9/30\n",
      "423/423 [==============================] - 1s 2ms/step - loss: 0.5663 - accuracy: 0.7240 - val_loss: 0.5685 - val_accuracy: 0.7205\n",
      "Epoch 10/30\n",
      "423/423 [==============================] - 1s 2ms/step - loss: 0.5669 - accuracy: 0.7224 - val_loss: 0.5655 - val_accuracy: 0.7178\n",
      "Epoch 11/30\n",
      "423/423 [==============================] - 1s 2ms/step - loss: 0.5634 - accuracy: 0.7297 - val_loss: 0.5630 - val_accuracy: 0.7217\n",
      "Epoch 12/30\n",
      "423/423 [==============================] - 1s 2ms/step - loss: 0.5650 - accuracy: 0.7302 - val_loss: 0.5657 - val_accuracy: 0.7235\n",
      "Epoch 13/30\n",
      "423/423 [==============================] - 1s 2ms/step - loss: 0.5663 - accuracy: 0.7318 - val_loss: 0.5644 - val_accuracy: 0.7152\n",
      "Epoch 14/30\n",
      "423/423 [==============================] - 1s 2ms/step - loss: 0.5578 - accuracy: 0.7320 - val_loss: 0.5659 - val_accuracy: 0.7172\n",
      "Epoch 15/30\n",
      "423/423 [==============================] - 1s 2ms/step - loss: 0.5566 - accuracy: 0.7328 - val_loss: 0.5626 - val_accuracy: 0.7223\n",
      "Epoch 16/30\n",
      "423/423 [==============================] - 1s 2ms/step - loss: 0.5616 - accuracy: 0.7317 - val_loss: 0.5693 - val_accuracy: 0.7178\n",
      "Epoch 17/30\n",
      "423/423 [==============================] - 1s 2ms/step - loss: 0.5554 - accuracy: 0.7317 - val_loss: 0.5640 - val_accuracy: 0.7202\n",
      "Epoch 18/30\n",
      "423/423 [==============================] - 1s 2ms/step - loss: 0.5584 - accuracy: 0.7317 - val_loss: 0.5647 - val_accuracy: 0.7184\n",
      "Epoch 19/30\n",
      "423/423 [==============================] - 1s 2ms/step - loss: 0.5595 - accuracy: 0.7337 - val_loss: 0.5624 - val_accuracy: 0.7187\n",
      "Epoch 20/30\n",
      "423/423 [==============================] - 1s 2ms/step - loss: 0.5667 - accuracy: 0.7334 - val_loss: 0.5620 - val_accuracy: 0.7169\n",
      "Epoch 21/30\n",
      "423/423 [==============================] - 1s 2ms/step - loss: 0.5551 - accuracy: 0.7348 - val_loss: 0.5639 - val_accuracy: 0.7193\n",
      "Epoch 22/30\n",
      "423/423 [==============================] - 1s 2ms/step - loss: 0.5589 - accuracy: 0.7365 - val_loss: 0.5748 - val_accuracy: 0.7155\n",
      "Epoch 23/30\n",
      "423/423 [==============================] - 1s 2ms/step - loss: 0.5651 - accuracy: 0.7344 - val_loss: 0.5650 - val_accuracy: 0.7199\n",
      "Epoch 24/30\n",
      "423/423 [==============================] - 1s 2ms/step - loss: 0.5560 - accuracy: 0.7358 - val_loss: 0.5639 - val_accuracy: 0.7196\n",
      "Epoch 25/30\n",
      "423/423 [==============================] - 1s 2ms/step - loss: 0.5540 - accuracy: 0.7351 - val_loss: 0.5677 - val_accuracy: 0.7220\n"
     ]
    },
    {
     "data": {
      "text/plain": [
       "<keras.callbacks.History at 0x1e3eeef9b70>"
      ]
     },
     "execution_count": 79,
     "metadata": {},
     "output_type": "execute_result"
    }
   ],
   "source": [
    "import tensorflow as tf\n",
    "from sklearn.preprocessing import StandardScaler, LabelEncoder, OneHotEncoder\n",
    "from sklearn.model_selection import train_test_split\n",
    "from keras.utils.np_utils import to_categorical\n",
    "from tensorflow.keras.layers import Dropout\n",
    "from tensorflow.keras.callbacks import EarlyStopping\n",
    "\n",
    "# 결측치 있는 데이터 준비\n",
    "data_with_missing = data.copy()\n",
    "\n",
    "# 결측치 채우기를 위한 데이터 준비\n",
    "target_column = 'CODE_GENDER'  # 채울 결측치가 있는 컬럼명\n",
    "input_numeric_columns = numeric_columns[1:]\n",
    "\n",
    "# 성별 전용\n",
    "data_with_missing.loc[data_with_missing['CODE_GENDER'] == 'XNA', 'CODE_GENDER'] = np.nan\n",
    "\n",
    "# 결측치가 없는 데이터 추출 추후 행 인덱스\n",
    "no_missing_data = data_with_missing[data_with_missing[target_column].notnull()]\n",
    "# 결측치 추후에 어떻게 채워지는 지 확인하기 위한 인덱스\n",
    "missing_data_index = data_with_missing[target_column].isnull()\n",
    "\n",
    "\n",
    "\n",
    "# 범주형 변수 인코딩\n",
    "encoder = OneHotEncoder(drop='first')\n",
    "categorical_data_encoded = encoder.fit_transform(data_with_missing[categorical_columns]).toarray()\n",
    "\n",
    "# 모든 입력 데이터 결합\n",
    "input_data_encoded = np.hstack((data_with_missing[input_numeric_columns].values, categorical_data_encoded))\n",
    "len(input_data_encoded)\n",
    "\n",
    "# 데이터 스케일링\n",
    "scaler = StandardScaler()\n",
    "input_data_scaled = scaler.fit_transform(input_data_encoded)\n",
    "\n",
    "\n",
    "print(len(input_data_scaled))\n",
    "\n",
    "train_data_scaled = input_data_scaled[data_with_missing[target_column].notnull()]\n",
    "\n",
    "print(len(train_data_scaled))\n",
    "\n",
    "# 결측치를 채울 Autoencoder 모델 구성\n",
    "input_dim = input_data_scaled.shape[1]\n",
    "\n",
    "\n",
    "\n",
    "model = tf.keras.Sequential([\n",
    "    tf.keras.layers.Input(shape=(input_dim,)),\n",
    "    tf.keras.layers.Dense(65, activation='relu'),\n",
    "    tf.keras.layers.Dropout(0.5),  # Dropout 추가\n",
    "    tf.keras.layers.Dense(64, activation='relu', kernel_regularizer=tf.keras.regularizers.l2(0.001)),\n",
    "    tf.keras.layers.Dropout(0.5),  # Dropout 추가\n",
    "    tf.keras.layers.Dense(32, activation='relu'),\n",
    "    tf.keras.layers.Dense(2, activation='softmax')  # 선형 활성화 함수 사용\n",
    "])\n",
    "\n",
    "model.compile(optimizer='rmsprop',\n",
    "              loss='categorical_crossentropy',\n",
    "              metrics=['accuracy'])\n",
    "\n",
    "\n",
    "# 타겟 컬럼 추후 원래 레이블으로 표기하기 위함\n",
    "\n",
    "# LabelEncoder 객체 생성 및 학습\n",
    "encoder_target = LabelEncoder()\n",
    "encoder_target.fit(no_missing_data[target_column])\n",
    "integer_encoded_labels = encoder_target.transform(no_missing_data[target_column])\n",
    "integer_encoded_labels\n",
    "\n",
    "\n",
    "\n",
    "one_hot_train_labels = to_categorical(integer_encoded_labels)\n",
    "\n",
    "# 모델 훈련전에 검증 데이터 셋으로 분류해 모델 학습이 제대로 되는지 평가\n",
    "\n",
    "X_train, X_val, y_train, y_val = train_test_split(train_data_scaled, one_hot_train_labels, test_size=0.2, random_state=42)\n",
    "\n",
    "# 과적합 방지 목적으로, 더이상 검증 데이터의 정확성 안올라가면 학습 중지\n",
    "early_stopping_cb = EarlyStopping(monitor='val_loss', patience=5, restore_best_weights=True)\n",
    "\n",
    "# 모델 훈련\n",
    "model.fit(X_train, y_train, validation_data=(X_val,y_val), epochs=30, batch_size=32, callbacks=[early_stopping_cb])\n",
    "\n",
    "\n",
    "\n",
    "\n"
   ]
  },
  {
   "cell_type": "code",
   "execution_count": 80,
   "id": "572c0b5c",
   "metadata": {},
   "outputs": [
    {
     "name": "stdout",
     "output_type": "stream",
     "text": [
      "7095\n",
      "100\n",
      "100\n",
      "222/222 [==============================] - 0s 1ms/step\n"
     ]
    },
    {
     "data": {
      "text/plain": [
       "1    F\n",
       "4    M\n",
       "5    M\n",
       "7    F\n",
       "8    M\n",
       "Name: CODE_GENDER, dtype: object"
      ]
     },
     "execution_count": 80,
     "metadata": {},
     "output_type": "execute_result"
    }
   ],
   "source": [
    "missing_data = input_data_scaled[data_with_missing[target_column].isnull()]\n",
    "print(len(missing_data))\n",
    "print(len(missing_data[0]))\n",
    "\n",
    "print(len(missing_data[0]))\n",
    "\n",
    "# 훈련된 모델로 결측치 예측 및 채우기\n",
    "predicted_values = model.predict(missing_data)\n",
    "filled_values = predicted_values.squeeze()\n",
    "\n",
    "\n",
    "original_label=np.argmax(filled_values, axis=1)\n",
    "predicted_labels_string = encoder_target.inverse_transform(original_label)\n",
    "\n",
    "# 결측치를 채워 넣음\n",
    "data_with_fill = data_with_missing.copy()\n",
    "data_with_fill.loc[data_with_missing[target_column].isnull(), target_column] = predicted_labels_string\n",
    "\n",
    "\n",
    "data_with_fill.loc[missing_data_index, target_column].head()"
   ]
  },
  {
   "cell_type": "code",
   "execution_count": null,
   "id": "3df15059",
   "metadata": {},
   "outputs": [],
   "source": []
  }
 ],
 "metadata": {
  "kernelspec": {
   "display_name": "Python 3 (ipykernel)",
   "language": "python",
   "name": "python3"
  },
  "language_info": {
   "codemirror_mode": {
    "name": "ipython",
    "version": 3
   },
   "file_extension": ".py",
   "mimetype": "text/x-python",
   "name": "python",
   "nbconvert_exporter": "python",
   "pygments_lexer": "ipython3",
   "version": "3.10.9"
  }
 },
 "nbformat": 4,
 "nbformat_minor": 5
}
